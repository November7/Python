{
 "cells": [
  {
   "cell_type": "markdown",
   "metadata": {},
   "source": [
    "# Regresja"
   ]
  },
  {
   "cell_type": "markdown",
   "metadata": {},
   "source": [
    "## Regresja liniowa"
   ]
  },
  {
   "cell_type": "code",
   "execution_count": null,
   "metadata": {},
   "outputs": [],
   "source": [
    "from matplotlib import pyplot as pl\n",
    "import numpy as np\n",
    "\n",
    "\n",
    "x = np.arange(0,11) #0..10\n",
    "y = np.single([-1,1.2,2.5,3.1,4.3,5.1,6.7,7.1,9.4,12,13])\n",
    "\n",
    "pl.figure(figsize=[8,8], facecolor=\"white\")\n",
    "pl.title(\"Dane z pomiaru\")\n",
    "pl.xlabel('x')\n",
    "pl.ylabel(\"y\")\n",
    "pl.axis([-2,10,-2,10])\n",
    "pl.grid(True,which=\"both\",axis=\"both\",alpha=.5)\n",
    "pl.plot(x,y,'o')\n",
    "pl.show()"
   ]
  },
  {
   "cell_type": "code",
   "execution_count": null,
   "metadata": {},
   "outputs": [],
   "source": [
    "from sklearn.linear_model import LinearRegression\n",
    "import numpy as np\n",
    "from matplotlib import pyplot as pl\n",
    "\n",
    "x.shape = (-1,1)\n",
    "# print(x,y)\n",
    "\n",
    "reg = LinearRegression().fit(x,y)\n",
    "reg.score(x,y)\n",
    "print(reg.coef_, reg.intercept_)\n",
    "\n",
    "a = reg.coef_[0]\n",
    "b = reg.intercept_\n",
    "\n",
    "X = np.arange(-10,10)\n",
    "X.shape = (-1,1)\n",
    "\n",
    "Y = reg.predict(X)\n",
    "\n",
    "pl.figure(figsize=[8,8], facecolor=\"white\")\n",
    "pl.title(\"Funkcja liniowa \\\"dopasowana\\\" do danych\")\n",
    "\n",
    "pl.xlabel('x')\n",
    "pl.ylabel(\"y\")\n",
    "pl.axis([-1,10,-1,10])\n",
    "pl.grid(True,which=\"both\",axis=\"both\",alpha=.5)\n",
    "pl.plot(x,y,'o')\n",
    "pl.plot(X,Y,'-')\n",
    "pl.show()"
   ]
  },
  {
   "cell_type": "code",
   "execution_count": null,
   "metadata": {},
   "outputs": [],
   "source": [
    "import numpy as np\n",
    "import pandas as pd\n",
    "from matplotlib import pyplot as pl\n",
    "\n",
    "data = pd.read_csv(\"../Data/dane_fkw2.csv\",delimiter=\";\", decimal=\",\")\n",
    "\n",
    "x = np.single(data['x'])\n",
    "y = np.single(data['y'])\n",
    "\n",
    "\n",
    "pl.figure(figsize=[8,8], facecolor=\"white\")\n",
    "pl.title(\"Funkcja liniowa \\\"dopasowana\\\" do danych\")\n",
    "\n",
    "pl.xlabel('x')\n",
    "pl.ylabel(\"y\")\n",
    "pl.axis([x.min()-2,x.max()+2,y.min()-5,y.max()+5])\n",
    "pl.grid(True,which=\"both\",axis=\"both\",alpha=.5)\n",
    "pl.plot(x,y,'.')\n",
    "pl.show()"
   ]
  },
  {
   "cell_type": "code",
   "execution_count": null,
   "metadata": {},
   "outputs": [],
   "source": [
    "import numpy as np\n",
    "import pandas as pd\n",
    "from matplotlib import pyplot as pl\n",
    "from sklearn.pipeline import make_pipeline\n",
    "from sklearn.preprocessing import PolynomialFeatures\n",
    "from sklearn import linear_model\n",
    "\n",
    "data = pd.read_csv(\"../Data/dane_fkw2.csv\",delimiter=\";\", decimal=\",\")\n",
    "\n",
    "x = np.single(data['x'])\n",
    "y = np.single(data['y'])\n",
    "\n",
    "\n",
    "\n",
    "x.shape = (-1,1)\n",
    "\n",
    "polyreg=make_pipeline(PolynomialFeatures(2),LinearRegression())\n",
    "\n",
    "polyreg.fit(x,y)\n",
    "\n",
    "\n",
    "pl.figure(figsize=[8,8], facecolor=\"white\")\n",
    "pl.plot(x,y,'.')\n",
    "pl.plot(x,polyreg.predict(x),'+')\n",
    "pl.xlabel('x')\n",
    "pl.ylabel(\"y\")\n",
    "pl.axis([x.min()-2,x.max()+2,y.min()-5,y.max()+5])\n",
    "pl.grid(True,which=\"both\",axis=\"both\",alpha=.5)\n",
    "pl.show()"
   ]
  },
  {
   "cell_type": "code",
   "execution_count": null,
   "metadata": {},
   "outputs": [],
   "source": [
    "import numpy as np\n",
    "from matplotlib import pyplot as pl\n",
    "\n",
    "x = np.arange(-10,11)\n",
    "y = np.random.randint(4,size=(21,1))*1.23\n",
    "\n",
    "xi = np.arange(-11000,11000)/1000\n",
    "x.shape = (-1,1)\n",
    "xi.shape = (-1,1)\n",
    "\n",
    "polyreg=make_pipeline(PolynomialFeatures(9),LinearRegression())\n",
    "\n",
    "polyreg.fit(x,y)\n",
    "\n",
    "pl.figure(figsize=[8,8], facecolor=\"white\")\n",
    "pl.plot(x,y,'o')\n",
    "pl.plot(xi,polyreg.predict(xi),'-')\n",
    "pl.xlabel('x')\n",
    "pl.ylabel(\"y\")\n",
    "pl.axis([x.min()-2,x.max()+2,y.min()-15,y.max()+15])\n",
    "pl.grid(True,which=\"both\",axis=\"both\",alpha=.5)\n",
    "pl.show()"
   ]
  }
 ],
 "metadata": {
  "interpreter": {
   "hash": "c6e48764ffe32e25b9c29c46fcf3f5faef33948f9facab811b50a6dc3793f6f8"
  },
  "kernelspec": {
   "display_name": "Python 3.10.4 64-bit (windows store)",
   "language": "python",
   "name": "python3"
  },
  "language_info": {
   "codemirror_mode": {
    "name": "ipython",
    "version": 3
   },
   "file_extension": ".py",
   "mimetype": "text/x-python",
   "name": "python",
   "nbconvert_exporter": "python",
   "pygments_lexer": "ipython3",
   "version": "3.10.4"
  },
  "orig_nbformat": 4
 },
 "nbformat": 4,
 "nbformat_minor": 2
}
