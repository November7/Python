{
 "cells": [
  {
   "cell_type": "markdown",
   "metadata": {},
   "source": [
    "Importowanie wymaganych bibliotek:\n",
    "cv2 - biblioteka OpenCV\n",
    "matplotlib - biblioteka do rysowania wykresów\n",
    "numpy - biblioteka NumPy"
   ]
  },
  {
   "cell_type": "code",
   "execution_count": null,
   "metadata": {},
   "outputs": [],
   "source": [
    "import cv2 as cv\n",
    "from matplotlib import pyplot as pl\n",
    "import numpy as np"
   ]
  },
  {
   "cell_type": "code",
   "execution_count": null,
   "metadata": {},
   "outputs": [],
   "source": [
    "img = cv.imread('../Images/tiger.jpg')\n",
    "print(type(img)) "
   ]
  },
  {
   "cell_type": "code",
   "execution_count": null,
   "metadata": {},
   "outputs": [],
   "source": [
    "pl.figure(figsize=[10,10])\n",
    "pl.axis('off')\n",
    "pl.imshow(img)\n",
    "pl.show()"
   ]
  },
  {
   "cell_type": "code",
   "execution_count": null,
   "metadata": {},
   "outputs": [],
   "source": [
    "pl.figure(figsize=[10,10])\n",
    "pl.axis('off')\n",
    "pl.imshow(cv.cvtColor(img, cv.COLOR_BGR2RGB))\n",
    "pl.show()"
   ]
  },
  {
   "cell_type": "code",
   "execution_count": null,
   "metadata": {},
   "outputs": [],
   "source": [
    "img = cv.imread('../Images/tiger.jpg')\n",
    "\n",
    "k0 = np.array([[0, 0, 0],[0, 1, 0],[0, 0, 0]])\n",
    "k1 = np.array([[1, 1, 1],[1, 1, 1],[1, 1, 1]])/9\n",
    "k2 = np.ones((10,10),np.single)/100\n",
    "k3 = np.array([[1, -1, 1],[-1,0, -1],[1, -1, 1]])\n",
    "k4 = np.array([[-1, -1, -1],[0, 0, 0],[1, 1, 1]])\n",
    "k5 = k4.transpose()\n",
    "#print (k)\n",
    "\n",
    "kernels = [k0,k1,k2,k3,k4,k5]\n",
    "\n",
    "f,s = pl.subplots(2,3,figsize=[25,12])\n",
    "s.shape = (1,6)\n",
    "i=0\n",
    "s = s[0]\n",
    "\n",
    "for ax in s:\n",
    "    nimg = cv.filter2D(src=img, ddepth=-1, kernel=kernels[i])\n",
    "    ax.imshow(cv.cvtColor(nimg, cv.COLOR_BGR2RGB))\n",
    "    ax.axis(\"off\")\n",
    "    i=i+1\n",
    "\n",
    "pl.show()"
   ]
  },
  {
   "cell_type": "code",
   "execution_count": null,
   "metadata": {},
   "outputs": [],
   "source": [
    "img2 = cv.medianBlur(img, 15)\n",
    "\n",
    "f,s = pl.subplots(1,2,figsize=[15,15])\n",
    "s[0].imshow(cv.cvtColor(img, cv.COLOR_BGR2RGB))\n",
    "s[1].imshow(cv.cvtColor(img2, cv.COLOR_BGR2RGB))\n",
    "s[0].axis('off')\n",
    "s[1].axis('off')\n",
    "pl.show()"
   ]
  },
  {
   "cell_type": "code",
   "execution_count": null,
   "metadata": {},
   "outputs": [],
   "source": [
    "\n",
    "img2 = cv.GaussianBlur(img, (15,15), 0)\n",
    "\n",
    "f,s = pl.subplots(1,2,figsize=[15,15])\n",
    "s[0].imshow(cv.cvtColor(img, cv.COLOR_BGR2RGB))\n",
    "s[1].imshow(cv.cvtColor(img2, cv.COLOR_BGR2RGB))\n",
    "s[0].axis('off')\n",
    "s[1].axis('off')\n",
    "pl.show()"
   ]
  },
  {
   "cell_type": "code",
   "execution_count": null,
   "metadata": {},
   "outputs": [],
   "source": [
    "img = cv.imread('../Images/litery.jpg')\n",
    "img2 = cv.dilate(img, (3,3), 0)\n",
    "\n",
    "f,s = pl.subplots(1,2,figsize=[15,15])\n",
    "s[0].imshow(cv.cvtColor(img, cv.COLOR_BGR2RGB))\n",
    "s[1].imshow(cv.cvtColor(img2, cv.COLOR_BGR2RGB))\n",
    "s[0].axis('off')\n",
    "s[1].axis('off')\n",
    "pl.show()"
   ]
  }
 ],
 "metadata": {
  "interpreter": {
   "hash": "c6e48764ffe32e25b9c29c46fcf3f5faef33948f9facab811b50a6dc3793f6f8"
  },
  "kernelspec": {
   "display_name": "Python 3.10.4 64-bit (windows store)",
   "language": "python",
   "name": "python3"
  },
  "language_info": {
   "codemirror_mode": {
    "name": "ipython",
    "version": 3
   },
   "file_extension": ".py",
   "mimetype": "text/x-python",
   "name": "python",
   "nbconvert_exporter": "python",
   "pygments_lexer": "ipython3",
   "version": "3.10.4"
  },
  "orig_nbformat": 4
 },
 "nbformat": 4,
 "nbformat_minor": 2
}
