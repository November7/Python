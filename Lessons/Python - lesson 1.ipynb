{
  "cells": [
    {
      "cell_type": "markdown",
      "source": [
        "# **Podstawy programowania w języku Python - część 1**"
      ],
      "metadata": {
        "id": "0VppUaMPUP7e"
      }
    },
    {
      "cell_type": "markdown",
      "source": [
        "## 1\\. Wstęp\n",
        "\n",
        "Python to **interpretowany** język programowania wysokiego poziomu ogólnego przeznaczenia, o rozbudowanym pakiecie bibliotek standardowych, którego ideą przewodnią jest czytelność i klarowność kodu źródłowego. Jego składnia cechuje się przejrzystością i zwięzłością. Twórcą języka jest Guido van Rossum, a pierwsze wydanie/wersja Python pochodzi z 1990/1991 r.\n",
        "\n",
        "(*źródło: Wikipedia*) --"
      ],
      "metadata": {
        "id": "spj-9WDrUTDe"
      }
    },
    {
      "cell_type": "markdown",
      "metadata": {
        "id": "9atHRYeUv-dw"
      },
      "source": [
        "## 2\\. Wpowadzenie teoretyczne\n"
      ]
    },
    {
      "cell_type": "markdown",
      "source": [
        "###2.1 Komentarze\n",
        "\n",
        "Komentarze to fragmenty tekstu, które w kodzie źródłowym (danego języka programowania), są ignorowane przez interpreter (bądź kompilator, jeżeli jest to jezyk kompilowany).\n",
        "\n",
        "Przykład komentarzy jednolinijkowego i wielolinijkowych:"
      ],
      "metadata": {
        "id": "KwGpX9SRWEb1"
      }
    },
    {
      "cell_type": "code",
      "source": [
        "# Komentarz jednolinijkowy rozpoczyna się znakiem # (hash)\n",
        "\n",
        "'''\n",
        "Komentarz wielolinijkowy (w zasadzie tekst/string wielolinijkowy)\n",
        "rozpoczyna się trzema znakami apostrofu...\n",
        "'''\n",
        "\n",
        "\"\"\"\n",
        "albo cudzysłowu\n",
        "\"\"\""
      ],
      "metadata": {
        "id": "NAzpwa-EWL6K",
        "colab": {
          "base_uri": "https://localhost:8080/",
          "height": 36
        },
        "outputId": "3893726a-6ed0-489f-941d-689c6dd554d2"
      },
      "execution_count": null,
      "outputs": [
        {
          "output_type": "execute_result",
          "data": {
            "application/vnd.google.colaboratory.intrinsic+json": {
              "type": "string"
            },
            "text/plain": [
              "'\\nalbo cudzysłowu\\n'"
            ]
          },
          "metadata": {},
          "execution_count": 1
        }
      ]
    },
    {
      "cell_type": "markdown",
      "source": [
        "### 2.2 Wypisywanie na ekran\n",
        "\n",
        "Do wyświetlania na ekranie danych, tekstów itp., służy funkcja *print()*. \n",
        "Funkcja ta może przyjmować dowolną ilość argumentów, które zostaną wypisane na ekran konsoli. Po każdym użyciu funkcji *print* domyślnie wstawiany jest znak końca linii (początku nowej linii).\n",
        "\n",
        "Przyglądnij się poniższym przykładom:"
      ],
      "metadata": {
        "id": "jCyW0GDnWM-Q"
      }
    },
    {
      "cell_type": "code",
      "source": [
        "#1. Wypisanie pojedynczego tekstu\n",
        "print(\"\\n ---------- Przykład 1 ------------\")\n",
        "print(\"Hello World!\") \n",
        "\n",
        "#2. Wypisanie kilku tekstów jako osobne argumenty funkcji\n",
        "print(\"\\n ---------- Przykład 2 ------------\")\n",
        "print(\"Hello\",\"World!\")\n",
        "\n",
        "#3. Kilkukrotne użycie funkcji print:\n",
        "print(\"\\n ---------- Przykład 3 ------------\")\n",
        "print(\"Hello\")\n",
        "print(\"World!\")\n",
        "\n",
        "#3a Określenie znaku końca linii (domyślnie przejście do nowej linii):\n",
        "print(\"\\n ---------- Przykład 3a -----------\")\n",
        "print(\"Hello\", end=\" \") #po wypisaniu Hello powinna pojawić się spacja zamiast domyślnego znaku nowej linii\n",
        "print(\"World!\")\n",
        "\n",
        "#3b Określenie separatora argumentów (domyślnie przecinek):\n",
        "print(\"\\n ---------- Przykład 3b -----------\")\n",
        "print(\"Hello\", \"World\", sep=\" : \") #nowy separator: spacja, dwukropek i spacja\n",
        "\n",
        "#4. Użycie specjalnego znaku sterującego określającego nową linię: \\n\n",
        "print(\"\\n ---------- Przykład 4 ------------\")\n",
        "print(\"Hello\\n\\n\\nWorld!\\n\\n\\n\")"
      ],
      "metadata": {
        "id": "si_KTptrXc6s",
        "colab": {
          "base_uri": "https://localhost:8080/"
        },
        "outputId": "e9c9a4a9-13d2-4c4c-9cd4-1c5d5fef39d2"
      },
      "execution_count": null,
      "outputs": [
        {
          "output_type": "stream",
          "name": "stdout",
          "text": [
            "\n",
            " ---------- Przykład 1 ------------\n",
            "Hello World!\n",
            "\n",
            " ---------- Przykład 2 ------------\n",
            "Hello World!\n",
            "\n",
            " ---------- Przykład 3 ------------\n",
            "Hello\n",
            "World!\n",
            "\n",
            " ---------- Przykład 3a -----------\n",
            "Hello World!\n",
            "\n",
            " ---------- Przykład 3b -----------\n",
            "Hello : World\n",
            "\n",
            " ---------- Przykład 4 ------------\n",
            "Hello\n",
            "\n",
            "\n",
            "World!\n",
            "\n",
            "\n",
            "\n"
          ]
        }
      ]
    },
    {
      "cell_type": "markdown",
      "metadata": {
        "id": "trjVDneUHRxC"
      },
      "source": [
        "### 2.2. Zmienne\n",
        "W programowaniu każda wartość liczbowa czy tekstowa, którą tworzymy, zapisywana jest w pamięci komputera w trakcie działania programu. Do takiej wartości odwołujemy się poprzez jej nazwę, którą sami określamy. \n",
        "Tak zapisane wartości nazywamy zmiennymi. \n",
        "\n",
        "Przykład: \n",
        "\n",
        "`x = 13`. \n",
        "\n",
        "Ten zapis tworzy zmienną o nazwie `x`, która przechowuje wartość `13`.\n",
        "\n",
        "Nazwa zmiennej musi spełniać określone zasady:\n",
        "- może składać się z liter alfabetu łacińskiego (bez znaków diakrytycznych) `a-z A-Z`, cyfr arabskich `0-9` i znaku podkreślenia `_`\n",
        "- nazwa **nie może** zaczynać się od cyfry\n",
        "- nazwa nie może być słowem kluczowym (jakąś inną nazwą wchodzącą wskład języka *np. for, if, in,...*)\n",
        "- wielkość liter ma znaczenie. Zmienna `x` to nie to samo co zmienna `X`\n",
        "\n",
        "\n",
        "Jednym z podstawowych rodzajów danych jakie mogą przyjmować zmienne w języku Python są tzw. stringi. Jest to typ danych, który przechowuje w sobie ciąg znaków. W związku z tym najczęściej wykorzystywany jest do przechowywania tekstu. \n",
        "\n",
        "Istnieją również inne typy danych:\n",
        " - Typy liczbowe:\n",
        "  - Liczba całkowita: 123\n",
        "  - Liczba rzeczywista, niecałkowita (zmiennoprzecinkowa): 3.14\n",
        "  - Liczba zespolona (zawierająca część urojoną, nierzeczywistą: 4j + 5 (4i+5). W Python zamiast części urojonej `i` stosowany jest znak `j`\n",
        " - Typ logiczny: `True` / `False`\n",
        " - Typy agregacji danych (łączenia w większe, złożone obiekty):\n",
        "  - Lista (list)\n",
        "  - Krotka (tuple)\n",
        "  - Słownik (dict)\n",
        "  - Zestaw (set)\n",
        " - Typy bitowe (bytes, bytearray)\n",
        " - Klasy (zaawansowane obiekty tworzone przez programistę)"
      ]
    },
    {
      "cell_type": "code",
      "source": [
        "#Przykład tworzenia zmiennych\n",
        "\n",
        "x = 1 # mała litera X\n",
        "X = 2 # wielka litera X\n",
        "\n",
        "Zmienna1 = 3\n",
        "ZmiennaRzeczywista = 3.14\n",
        "\n",
        "print(x,X,Zmienna1,ZmiennaRzeczywista) #domyślny separator argumentów: spacja\n",
        "print(x,X,Zmienna1,ZmiennaRzeczywista, sep=\"\\n\") #nowy separator argumentów: znak nowej linii\n",
        "\n",
        "str1 = \"zmienna tekstowa1\"\n",
        "str2 = \"zmienna tekstowa2\"\n",
        "\n",
        "print(str1,str2, sep=\", \")\n",
        "\n",
        "a = 5\n",
        "b = -100\n",
        "c = 2.5\n",
        "z = 1j + 5\n",
        "\n",
        "print(\"a = \", a)\n",
        "print(\"b = \", b)\n",
        "print(\"c = \", c)\n",
        "print(\"z = \", z)"
      ],
      "metadata": {
        "colab": {
          "base_uri": "https://localhost:8080/"
        },
        "id": "N1cKXoQZVl0F",
        "outputId": "84743e5e-de9f-4abf-ff91-20148f2ca1f1"
      },
      "execution_count": null,
      "outputs": [
        {
          "output_type": "stream",
          "name": "stdout",
          "text": [
            "1 2 3 3.14\n",
            "1\n",
            "2\n",
            "3\n",
            "3.14\n",
            "zmienna tekstowa1, zmienna tekstowa2\n",
            "a =  5\n",
            "b =  -100\n",
            "c =  2.5\n",
            "z =  (5+1j)\n"
          ]
        }
      ]
    },
    {
      "cell_type": "markdown",
      "source": [
        "### 2.3. Wartość, identyfikator i typ zmiennej\n",
        "\n",
        "Poniżej znajduje się przykład użycia funkcji pozyskującyc informacje o zdefiniowanych zmiennych.\n",
        "\n",
        "- `id()` - Funkcja zwracająca identyfikator zmiennej (adres?), dzięki któremu możemy upewnić się czy dwie zmienne to ten sam, czy inny obszar w pamięci\n",
        "- `type()` - Funkcja zwracająca typ zmiennej\n",
        " "
      ],
      "metadata": {
        "id": "OSzvN_VgN204"
      }
    },
    {
      "cell_type": "code",
      "source": [
        "zmienna_1 = 1234\n",
        "zmienna_2 = 213.4\n",
        "zmienna_3 = \"123.4\"\n",
        "zmienna_4 = 1 > 2\n",
        "\n",
        "print(zmienna_1, zmienna_2, zmienna_3, zmienna_4)\n",
        "print(id(zmienna_1), id(zmienna_2), id(zmienna_3), id(zmienna_4))\n",
        "print(type(zmienna_1), type(zmienna_2), type(zmienna_3), type(zmienna_4))\n",
        "\n",
        "zmienna_5 = zmienna_1 #Kopia czy referencja?\n",
        "\n",
        "print(zmienna_1, zmienna_5)\n",
        "print(id(zmienna_1), id(zmienna_5))\n",
        "print(type(zmienna_1), type(zmienna_5))\n",
        "\n",
        "zmienna_5 += 10 #Co z oryginałem?\n",
        "\n",
        "print(zmienna_1, zmienna_5)\n",
        "print(id(zmienna_1), id(zmienna_5))\n",
        "print(type(zmienna_1), type(zmienna_5))"
      ],
      "metadata": {
        "id": "lfh5eWILObxj",
        "colab": {
          "base_uri": "https://localhost:8080/"
        },
        "outputId": "52290ddc-e771-4957-ccc9-1217e8b70d49"
      },
      "execution_count": null,
      "outputs": [
        {
          "output_type": "stream",
          "name": "stdout",
          "text": [
            "1234 213.4 123.4 False\n",
            "140450816920880 140450816919984 140450822952496 94443977019680\n",
            "<class 'int'> <class 'float'> <class 'str'> <class 'bool'>\n",
            "1234 1234\n",
            "140450816920880 140450816920880\n",
            "<class 'int'> <class 'int'>\n",
            "1234 1244\n",
            "140450816920880 140450765712656\n",
            "<class 'int'> <class 'int'>\n"
          ]
        }
      ]
    },
    {
      "cell_type": "markdown",
      "source": [
        "#### Dla ciekawskich\n",
        "Zwróć uwagę jeszcze raz na identyfikatory zmiennych (stałych) w poniższym przykładzie:"
      ],
      "metadata": {
        "id": "JY9vlh-2RwvJ"
      }
    },
    {
      "cell_type": "code",
      "source": [
        "a = 1234\n",
        "b = 1234\n",
        "c = a\n",
        "print(id(1234), id(a), id(b), id(c))\n",
        "\n",
        "a += 1\n",
        "b += 1\n",
        "c = 1235\n",
        "print(id(1235), id(a), id(b), id(c))\n",
        "\n",
        "#a jak zachowują się zmienne o innych wartościach?\n",
        "a = 123\n",
        "b = 123\n",
        "c = a\n",
        "print(id(123), id(a), id(b), id(c))\n",
        "\n",
        "#co ze stringami?\n",
        "s1 = \"alamakota\"\n",
        "s2 = \"alamakota\"\n",
        "print(id(s1),id(s2))\n",
        "\n",
        "s3 = \"ala ma kota\"\n",
        "s4 = \"ala ma kota\"\n",
        "print(id(s3),id(s4))"
      ],
      "metadata": {
        "colab": {
          "base_uri": "https://localhost:8080/"
        },
        "id": "xUa8NPdcR_Vk",
        "outputId": "b684c5ed-568f-4a9c-e394-5651b1044506"
      },
      "execution_count": null,
      "outputs": [
        {
          "output_type": "stream",
          "name": "stdout",
          "text": [
            "140687089744432 140687089742736 140687089744592 140687089742736\n",
            "140687089744624 140687089680784 140687089742320 140687089741904\n",
            "94453791418688 94453791418688 94453791418688 94453791418688\n",
            "140687089770672 140687089770672\n",
            "140687089773296 140687089773488\n"
          ]
        }
      ]
    },
    {
      "cell_type": "markdown",
      "source": [
        "### 2.4. Pobieranie danych od użytkownika programu"
      ],
      "metadata": {
        "id": "GkGn17GpfhBd"
      }
    },
    {
      "cell_type": "markdown",
      "metadata": {
        "id": "w9MVmjHNzBiX"
      },
      "source": [
        "Poniższy przykład przedstawia powitanie, które będzie odnosiło się do konkretnej osoby. Załóżmy, że chcemy powitać Tony'ego Starka znanego jako Iron Man. W ramach tego przykładu mamy przygotowane trzy zmienne."
      ]
    },
    {
      "cell_type": "code",
      "execution_count": null,
      "metadata": {
        "colab": {
          "base_uri": "https://localhost:8080/"
        },
        "id": "I5wE-Kelzl7M",
        "outputId": "cd20e7af-3fa4-42db-c638-7a6e9119c8f4"
      },
      "outputs": [
        {
          "output_type": "stream",
          "name": "stdout",
          "text": [
            "Witaj Tony\n",
            "Witaj Iron Man\n"
          ]
        }
      ],
      "source": [
        "powitanie = \"Witaj\"\n",
        "imie = \"Tony\"\n",
        "bohater = \"Iron Man\"\n",
        "\n",
        "print(powitanie, imie)\n",
        "print(powitanie, bohater)"
      ]
    },
    {
      "cell_type": "markdown",
      "source": [
        "A co jeśli chcielibyśmy powitać dowolną osobę, która uruchomi nasz program? Należałoby dać użytkownikowi możliwość wpisania swojego imienia. Z pomocą przychodzi funkcja input(), która zapisuje do pamięci komputera dowolny ciąg znaków lub liczbę wpisaną przez użytkownika. W tym przypadku spodziewamy się, że użytkownik wpisze swoje imię i zatwierdzi je przyciskiem Enter."
      ],
      "metadata": {
        "id": "ywPyKIRuJAy1"
      }
    },
    {
      "cell_type": "code",
      "source": [
        "powitanie = \"Witaj \"\n",
        "imie = input(\"Wpisz swoje imie \")\n",
        "\n",
        "print(powitanie, imie)"
      ],
      "metadata": {
        "id": "x5qxTQ6TJJbK"
      },
      "execution_count": null,
      "outputs": []
    },
    {
      "cell_type": "markdown",
      "source": [
        "## 3\\. Operacje arytmetyczne i tekstowe"
      ],
      "metadata": {
        "id": "c0pWHKs3fvLt"
      }
    },
    {
      "cell_type": "markdown",
      "source": [
        "### 3.1. Operatory arytmetyczne\n",
        "Każdy język programowania oferuje wykonywanie podstawowych (a czasem bardziej zaawansowanych) operacji matematycznych takich jak:\n",
        "- dodawanie `+`\n",
        "- odejmowanie `-`\n",
        "- mnożenie `*`\n",
        "- dzielenie \n",
        "  - dzielenie (zwykłe) `/`\n",
        "  - dzielenie całkowite `//`\n",
        "  - reszta z dzielenia `%`\n",
        "- potęgowanie `**`\n",
        "\n",
        "Uruchom (i przeanalizuj) poniższy przykład:"
      ],
      "metadata": {
        "id": "xeXZurC3hUQd"
      }
    },
    {
      "cell_type": "code",
      "source": [
        "#przykladowe liczby\n",
        "x = 7 \n",
        "y = 4\n",
        "\n",
        "#dodawanie\n",
        "print(\"Wynik dodawnia: \", x+y)\n",
        "\n",
        "#odejmowanie\n",
        "print(\"Odejmowanie: \", x-y)\n",
        "\n",
        "#mnożenie\n",
        "print(\"Mnożenie: \", x*y)\n",
        "\n",
        "#dzielenie\n",
        "print(\"Dzielenie: \", x/y)\n",
        "\n",
        "#poniższe operacje działają przy liczbach całkowitych\n",
        "print(\"Dzielenie bez reszty (całkowite): \", x//y) #wartość po kropce jest odcinana! Wynik nie jest zaokrąglany!\n",
        "print(\"Reszta z dzielenia: \", x%y) \n",
        "\n",
        "#potęgowanie\n",
        "print(\"Wynik potęgowania liczb: \",x**y)"
      ],
      "metadata": {
        "id": "R4bbmRr_gz0Z"
      },
      "execution_count": null,
      "outputs": []
    },
    {
      "cell_type": "markdown",
      "metadata": {
        "id": "KtAVBYCjpvKb"
      },
      "source": [
        "### 3.2. Obliczenia na liczbach.\n",
        "Poniższy przykład przedstawia listę przedmiotów i ocen. Następnie obliczona zostanie średnia arytmetyczna dla wprowadzonych danych."
      ]
    },
    {
      "cell_type": "code",
      "execution_count": null,
      "metadata": {
        "colab": {
          "base_uri": "https://localhost:8080/"
        },
        "id": "idbR6MJgqsnv",
        "outputId": "8066fcca-602e-4cae-da24-8a0624045c37"
      },
      "outputs": [
        {
          "output_type": "stream",
          "name": "stdout",
          "text": [
            "Ocena z matematyki:  5\n",
            "Ocena z języka polskiego:  4.5\n",
            "Ocena z fizyki:  4.5\n",
            "Ocena z geografii:  4\n",
            "------------------------------------\n",
            "Średnia ocen wynosi:  4.5\n"
          ]
        }
      ],
      "source": [
        "# nazwa_przedmiotu = ocena_z_przedmiotu\n",
        "\n",
        "matematyka = 5\n",
        "fizyka = 4.5\n",
        "j_polski = 4.5\n",
        "geografia = 4\n",
        "\n",
        "print(\"Ocena z matematyki: \", matematyka)\n",
        "print(\"Ocena z języka polskiego: \", j_polski)\n",
        "print(\"Ocena z fizyki: \", fizyka)\n",
        "print(\"Ocena z geografii: \", geografia)\n",
        "print(\"------------------------------------\")\n",
        "srednia = (matematyka + fizyka + j_polski + geografia)/4\n",
        "\n",
        "print(\"Średnia ocen wynosi: \",srednia)"
      ]
    },
    {
      "cell_type": "markdown",
      "source": [
        "### 3.3 Łączenie tesktów\n",
        "\n",
        "W języku Python można wykonywać zaawansowane operacje na stringach (tekstach), natomiast standardową (podstawową) czynnością jest konkatenacja, czyli łączenie (sklejanie) tekstów. Operatorem konkatenacji w Python jest znak `+`, ten sam znak, który jest operatorem dodawania!"
      ],
      "metadata": {
        "id": "1AtSxcTRjCI_"
      }
    },
    {
      "cell_type": "code",
      "source": [
        "Str1 = \"Witaj\"\n",
        "Str2 = \"Świecie!\"\n",
        "StrOut = Str1 + Str2 #Sklejenie tekstów\n",
        "\n",
        "print(StrOut)\n",
        "\n",
        "StrOut = Str1 + \" \" + Str2 #dodanie spacji pomiędzy teksty\n",
        "print(StrOut)\n",
        "\n",
        "print(Str1+\" \"+Str2) #sklejanie tekstów bezpośrednio w print"
      ],
      "metadata": {
        "colab": {
          "base_uri": "https://localhost:8080/"
        },
        "id": "GHLlnCOEjctA",
        "outputId": "ed3e60fd-0459-4117-c87d-79ca23d1f1b2"
      },
      "execution_count": null,
      "outputs": [
        {
          "output_type": "stream",
          "name": "stdout",
          "text": [
            "WitajŚwiecie!\n",
            "Witaj Świecie!\n",
            "Witaj Świecie!\n"
          ]
        }
      ]
    },
    {
      "cell_type": "markdown",
      "source": [
        "Poniższy przykład przedstawia problem związany z użyciem tego samego opratora do dodawania i konkatenacji:"
      ],
      "metadata": {
        "id": "uGvXPwHgj_7C"
      }
    },
    {
      "cell_type": "code",
      "source": [
        "x = input(\"Podaj liczbę 1 \")\n",
        "y = input(\"Podaj liczbę 2 \")\n",
        "\n",
        "print(x + y) #dodawanie ??"
      ],
      "metadata": {
        "id": "kQQI0Kh7kKwD"
      },
      "execution_count": null,
      "outputs": []
    },
    {
      "cell_type": "markdown",
      "source": [
        "Jak widać na powyższym przykładu wprowadzone liczby nie zostaną dodane lecz sklejone! Wynika to z faktu, że funkcja input zawsze zwraca tekst, niezależnie jakie dane zostaną wpisane (liczby czy tekst)."
      ],
      "metadata": {
        "id": "7qX2CvWSkYKa"
      }
    },
    {
      "cell_type": "markdown",
      "source": [
        "### 3.4. Konwersja pomiędzy typami\n",
        "\n",
        "Aby zmusić język Python do \"właściwego\" interpretowania danych należy użyć jawnej konwersji pomiędzy typami za pomocą specjalnych funkcji:\n",
        "\n",
        "- int() - konwersja do int (liczby całkowite)\n",
        "- float() - konwersja do float (liczby zmiennoprzecinkowe)\n",
        "- str() - konwersja do string"
      ],
      "metadata": {
        "id": "vYxoff4Ck0p6"
      }
    },
    {
      "cell_type": "code",
      "source": [
        "x = input(\"Podaj liczbę całkowitą 1 \") \n",
        "y = input(\"Podaj liczbę całkowitą 2 \")\n",
        "\n",
        "#dodawanie intów\n",
        "wynik = int(x) + int(y)\n",
        "print(wynik) \n",
        "\n",
        "#dodawanie floatów\n",
        "wynik = float(x) + float(y)\n",
        "print(wynik)\n",
        "\n",
        "#konkatenacja (nawet jeżeli zostały wprowadzone liczby)\n",
        "wynik = x + y\n",
        "print(wynik)"
      ],
      "metadata": {
        "colab": {
          "base_uri": "https://localhost:8080/"
        },
        "id": "1KWbGIRnlLa8",
        "outputId": "3ae98e87-092f-4d16-b0b0-e9b564b5682b"
      },
      "execution_count": null,
      "outputs": [
        {
          "output_type": "stream",
          "name": "stdout",
          "text": [
            "Podaj liczbę całkowitą 1 1\n",
            "Podaj liczbę całkowitą 2 3\n",
            "4\n",
            "4.0\n",
            "13\n"
          ]
        }
      ]
    },
    {
      "cell_type": "markdown",
      "source": [
        "Zwróć uwagę na pewne szczegóły w powy ższym przykładzie jeszcze raz:\n",
        "- funkcja int() nie potrafi konwertować danych, które nie wyglądają jak liczba całkowita (spróbuj wpisać liczbę ułamkową lub dowolny tekst)\n",
        "- podoobnie funkkcja float() nie potrafi konwertować danych, które nie wyglądają jak liczba rzeczywista\n",
        "- zmienna wynik, po każdym obliczeniu będzie miała typ. Zachodzi niejawna konwersja typu zmiennej: najpierw jest int, potem float, a na końcu string. A zatem zmienna może zmieniać w czasie nie tylko swoją wartość ale i typ przechowaywanych danych."
      ],
      "metadata": {
        "id": "pbs3Srllmgj8"
      }
    },
    {
      "cell_type": "markdown",
      "source": [
        "Przykłady użycia funkcji konwertujących:"
      ],
      "metadata": {
        "id": "mhWdDPBqudBI"
      }
    },
    {
      "cell_type": "code",
      "source": [
        "print(int(\"101\"))      # Konwersja tekstu na liczbę \n",
        "print(int(\"101\",2))    # Konwersja tekstu na liczbę w systemie dwójkowym\n",
        "print(int(\"101\",3))    # Konwersja tekstu na liczbę w systemie trójkowym\n",
        "print(int(\"101\",8))    # Konwersja tekstu na liczbę w systemie ósemkowym\n",
        "print(int(\"101\",16))   # Konwersja tekstu na liczbę w systemie szesnastkowym\n",
        "print(int(\"10AF\",16))  # Konwersja tekstu na liczbę w systemie szesnastkowym\n",
        "\n",
        "#błędy:\n",
        "#print(int(123,10))    # Nie można konwertować wartości nietekstowej, gdy określamy podstawę systemu liczbowego\n",
        "#print(int(\"3.14\"))    # Nie można konwertować tesktu niezawierającego liczby całkowitej na liczbę całkowitą\n",
        "#print(int(\"3abc\"))    # Nie można konwertować tesktu niezawierającego liczby na liczbę całkowitą\n",
        "#print(float(\"123,3\")) # Nie można konwertować na float, z uwagi na nieprawidłowy separator dziesiętny - powinna być kropka"
      ],
      "metadata": {
        "colab": {
          "base_uri": "https://localhost:8080/"
        },
        "id": "5d45F379qPmS",
        "outputId": "60c9b146-863b-4746-fe6f-1f33e0e9f2a4"
      },
      "execution_count": null,
      "outputs": [
        {
          "output_type": "stream",
          "name": "stdout",
          "text": [
            "101\n",
            "5\n",
            "10\n",
            "65\n",
            "257\n",
            "4271\n"
          ]
        }
      ]
    },
    {
      "cell_type": "markdown",
      "source": [
        "Jeżeli dane wejściowe nie spełniają odpowiednich kryteriów, powinniśmy przeprawdzić ich wstępną obróbkę lub skorzystać z obsługi wyjątków (temat późniejszy)"
      ],
      "metadata": {
        "id": "crZW87a60wys"
      }
    },
    {
      "cell_type": "markdown",
      "metadata": {
        "id": "S6t5Mt8cP78_"
      },
      "source": [
        "\n",
        "\n",
        "\n",
        "\n",
        "\n",
        "\n",
        "\n",
        "\n",
        "Kolejny przykład realizauje podobne zadanie do wcześniejszego \"dziennika ocen\". Tym razem dane będą pobierane z klawiatury za pomocą funkcji *input()*, a wyświetlane funkcją *print()*. Dodatkowo dane wejściowe będą od razu konwertowane na float"
      ]
    },
    {
      "cell_type": "code",
      "execution_count": null,
      "metadata": {
        "id": "bTa8BirpQXDO"
      },
      "outputs": [],
      "source": [
        "matematyka = float(input(\"Podaj ocenę z matematyki: \"))\n",
        "fizyka = float(input(\"Podaj ocenę z fizyki: \"))\n",
        "j_polski = float(input(\"Podaj ocenę z geografi: \"))\n",
        "geografia = float(input(\"Podaj ocenę z geografi: \"))\n",
        "\n",
        "print(\"Ocena z matematyki: \", matematyka)\n",
        "print(\"Ocena z języka polskiego: \", j_polski)\n",
        "print(\"Ocena z fizyki: \", fizyka)\n",
        "print(\"Ocena z geografii: \", geografia)\n",
        "print(\"------------------------------------\")\n",
        "srednia = (matematyka + fizyka + j_polski + geografia)/4\n",
        "\n",
        "print(\"Średnia ocen wynosi: \",srednia)"
      ]
    },
    {
      "cell_type": "markdown",
      "metadata": {
        "id": "S4qzf_iE7bXq"
      },
      "source": [
        "## 4\\. Operatory relacji (komparatory) i instrukcje warunkowe\n",
        "\n",
        "\n",
        "\n",
        "\n",
        "\n",
        "\n",
        "\n"
      ]
    },
    {
      "cell_type": "markdown",
      "metadata": {
        "id": "jntbz9uuHRxM"
      },
      "source": [
        "### 4.1. Operatory relacji (komparatory)\n",
        "Załóżmy, że mamy za zadanie napisac program, który pobiera od użytkownika kod PIN i sprawdza jego poprawność. Nasuwa się pytanie, jak sprawdzić poprawność tego kodu? Aby to zrobić musimy znać prawidłowy kod PIN i dokonać porównania z kodem podanym przez użytkownika. Z pomocą przychodzą komparatory: \n",
        "- większe/mniejsze - `>` / `<` \n",
        "- większy bądź równy/mniejszy bądź równy - `>=` / `<=`\n",
        "- jest równe - `==` (podwóny znak `=`, pojedynczy to przypisanie)\n",
        "- jest różne - `!=`"
      ]
    },
    {
      "cell_type": "code",
      "execution_count": null,
      "metadata": {
        "colab": {
          "base_uri": "https://localhost:8080/"
        },
        "id": "2RuMJpQW-sFo",
        "outputId": "e7b32906-24c0-4e6e-d468-d1131061cb04"
      },
      "outputs": [
        {
          "output_type": "stream",
          "name": "stdout",
          "text": [
            "Porównaj liczby\n",
            "Czy a < b ? True\n",
            "Czy b == c ? True\n",
            "Czy b <= c ? True\n",
            "Czy a jest równe b ? False\n"
          ]
        }
      ],
      "source": [
        "a = 5 \n",
        "b = 10\n",
        "c = 10.0\n",
        "\n",
        "print('Porównaj liczby')   #możesz zmienić wartości liczb i porównania\n",
        "print('Czy a < b ?', a < b)\n",
        "print('Czy b == c ?', b == c)\n",
        "print('Czy b <= c ?', b <= c)\n",
        "print(\"Czy a jest równe b ?\", a == b)\n"
      ]
    },
    {
      "cell_type": "markdown",
      "metadata": {
        "id": "0gGS5ArNFRTb"
      },
      "source": [
        "### 4.2 Instrukcja warunkowa if..elif..else\n",
        "\n",
        "- `if` - fragment kodu znajdujący się poniżej jest wykonywany jeśli wartość przy \"if\" jest prawdziwa\n",
        "- `elif` - fragment kodu znajdujący się poniżej jest wykonywany jeśli wartość przy \"if\" była nieprawdziwa, a jest prawdziwa przy elif\n",
        "- `else` - fragment kodu znajdujący się poniżej jest wykonywany jeśli ani wartość przy \"if\" ani przy kolejnych instrukcjach \"elif\" nie była prawdziwa\n",
        "\n",
        "Komenda *if*, *elif* jak i *else* kończy się dwukropkiem, a wykonywane warunkowo linie kodu są wcięte!\n",
        "\n",
        "**Wcięcie w Python oznacza blok instrukcji warunkowych, blok pętli, blok funkcji itp.**\n",
        "Wcięcie musi być takie samo w ramach jednego bloku (np. jedna spacja, kilka spacji, tabulator itp)\n"
      ]
    },
    {
      "cell_type": "code",
      "execution_count": null,
      "metadata": {
        "colab": {
          "base_uri": "https://localhost:8080/"
        },
        "id": "8am2Tk_QCZ4-",
        "outputId": "e35855ea-3d87-4bda-cffd-d414172651a5"
      },
      "outputs": [
        {
          "output_type": "stream",
          "name": "stdout",
          "text": [
            "\n",
            "Nie podano imienia\n",
            "koniec!\n"
          ]
        }
      ],
      "source": [
        "powitanie = \"Witaj \"\n",
        "\n",
        "imie = input()\n",
        "\n",
        "if (imie != ''):  # Jeżeli zmienna jest różna od pustego tekstu\n",
        "  print(powitanie,end=\"\")\n",
        "  print(imie)\n",
        "else:             # W przeciwnym wypadku\n",
        "  print('Nie podano imienia') \n",
        "\n",
        "print(\"koniec!\")"
      ]
    },
    {
      "cell_type": "markdown",
      "metadata": {
        "id": "JATK7A9JBqs-"
      },
      "source": [
        "\n",
        "Wykorzystując zdobytą wiedzę, napisz kod który będzie sprawdzał znak liczby (ujemna albo nieujemna)\n"
      ]
    },
    {
      "cell_type": "code",
      "execution_count": null,
      "metadata": {
        "colab": {
          "base_uri": "https://localhost:8080/"
        },
        "id": "XIkinztDHRxN",
        "outputId": "8789e113-1afd-4d4a-f92f-40f54aac0b53"
      },
      "outputs": [
        {
          "output_type": "stream",
          "name": "stdout",
          "text": [
            "Podaj liczbe: 0\n",
            "Liczba nieujemna\n"
          ]
        }
      ],
      "source": [
        "liczba = int(input(\"Podaj liczbe: \"))\n",
        "\n",
        "if liczba < 0:\n",
        "    print(\"Liczba ujemna\")\n",
        "else:\n",
        "    print(\"Liczba nieujemna\")\n"
      ]
    },
    {
      "cell_type": "markdown",
      "source": [
        "A co z wartością zero?"
      ],
      "metadata": {
        "id": "3W5uB2ScOUP7"
      }
    },
    {
      "cell_type": "code",
      "source": [
        "liczba = int(input(\"Podaj liczbe: \"))\n",
        "\n",
        "if (liczba < 0):    #wyrażenie warunkowe może być w nawiasie (tak jak wymagają tego inne języki programowania)\n",
        "  print(\"Liczba ujemna\")\n",
        "elif (liczba>0):\n",
        "  print(\"Liczba dodatnia\")\n",
        "else:\n",
        "  print(\"zero\")"
      ],
      "metadata": {
        "colab": {
          "base_uri": "https://localhost:8080/"
        },
        "id": "-fhS7z2MOWys",
        "outputId": "dd8ce00f-613c-420a-8288-99163890319e"
      },
      "execution_count": null,
      "outputs": [
        {
          "output_type": "stream",
          "name": "stdout",
          "text": [
            "Podaj liczbe: -123\n",
            "Liczba ujemna\n"
          ]
        }
      ]
    },
    {
      "cell_type": "markdown",
      "source": [
        "Kolejny przykład przedstawia użycie większej ilości instrukcji elif:"
      ],
      "metadata": {
        "id": "L6IFLzMr3IO9"
      }
    },
    {
      "cell_type": "code",
      "source": [
        "x = float(input(\"Podaj argument 1: \"))\n",
        "y = float(input(\"Podaj argument 2: \"))\n",
        "\n",
        "#zwróć uwagę, na poniższy fragment: wielolinijkowy komentarz z rozdziału 2.1 to również wielolinijkowy tekst!\n",
        "print(\"\"\"Wybierz jedną z opcji:\\n\n",
        "      1. Dodawanie\n",
        "      2. Odejmowanie\n",
        "      3. Mnożenie\n",
        "      4. Dzielenie\n",
        "      5. Dzielenie całkowite\n",
        "      6. Dzielenie modulo (reszta z dzielenia)\n",
        "      \"\"\")\n",
        "opcja = int(input(\"Podaj opcję \"))\n",
        "\n",
        "if opcja == 1:\n",
        "  print(x+y)\n",
        "elif opcja == 2:\n",
        "  print(x-y)\n",
        "elif opcja == 3:\n",
        "  print(x*y)\n",
        "elif opcja == 4:\n",
        "  if y == 0:\n",
        "    print(\"nie mogę podzielić przez zero!\")\n",
        "  else:\n",
        "   print(x/y)\n",
        "elif opcja == 5:\n",
        "  print(\"Muszę zamienić na liczby całkowite\")\n",
        "  ix = int(x)\n",
        "  iy = int(y)\n",
        "  if y == 0:\n",
        "    print(\"nie mogę podzielić przez zero!\")\n",
        "  else:\n",
        "   print(x//y)\n",
        "elif opcja == 6:\n",
        "  print(\"Muszę zamienić na liczby całkowite\")\n",
        "  ix = int(x)\n",
        "  iy = int(y)\n",
        "  if iy == 0:\n",
        "    print(\"nie mogę podzielić przez zero!\")\n",
        "  else:\n",
        "   print(ix % iy)\n",
        "else:\n",
        "  print(\"Nieznana opcja :(\")"
      ],
      "metadata": {
        "colab": {
          "base_uri": "https://localhost:8080/"
        },
        "id": "HQwk74yN3NTV",
        "outputId": "647e166c-8019-4fe6-8eef-718e409e392a"
      },
      "execution_count": null,
      "outputs": [
        {
          "output_type": "stream",
          "name": "stdout",
          "text": [
            "Podaj argument 150\n",
            "Podaj argument 223\n",
            "Wybierz jedną z opcji:\n",
            "\n",
            "      1. Dodawanie\n",
            "      2. Odejmowanie\n",
            "      3. Mnożenie\n",
            "      4. Dzielenie\n",
            "      5. Dzielenie całkowite\n",
            "      6. Dzielenie modulo (reszta z dzielenia)\n",
            "      \n",
            "Podaj opcję 2\n",
            "27.0\n"
          ]
        }
      ]
    },
    {
      "cell_type": "markdown",
      "source": [
        "Zwróć uwagę, na kilka niedogodności powyższego programu:\n",
        "- Program może wykonać tylko jedno działanie na każde uruchomienie. Jak zmienić aby mógł działać tak długo, aż użytkownik o tym nie zdecyduje?\n",
        "- W programie kilkukrotnie wykonywane są takie same (albo podobne) zestawy kilku instrukcji. W jaki sposób to zmienić?"
      ],
      "metadata": {
        "id": "ETfnxOEQ47iV"
      }
    }
  ],
  "metadata": {
    "colab": {
      "collapsed_sections": [],
      "name": "Python - lekcja 1.ipynb",
      "provenance": []
    },
    "kernelspec": {
      "display_name": "Python 3",
      "language": "python",
      "name": "python3"
    },
    "language_info": {
      "codemirror_mode": {
        "name": "ipython",
        "version": 3
      },
      "file_extension": ".py",
      "mimetype": "text/x-python",
      "name": "python",
      "nbconvert_exporter": "python",
      "pygments_lexer": "ipython3",
      "version": "3.8.6"
    }
  },
  "nbformat": 4,
  "nbformat_minor": 0
}