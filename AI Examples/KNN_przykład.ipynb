{
  "cells": [
    {
      "cell_type": "markdown",
      "metadata": {
        "id": "FH9Q6EYw-xEB"
      },
      "source": [
        "**Import wymaganych bibliotek**"
      ]
    },
    {
      "cell_type": "code",
      "execution_count": null,
      "metadata": {
        "id": "ZbpOdPHt-rYA"
      },
      "outputs": [],
      "source": [
        "import matplotlib.pyplot as pl\n",
        "import numpy as np\n",
        "import pandas as pd\n",
        "from sklearn.neighbors import KNeighborsClassifier"
      ]
    },
    {
      "cell_type": "markdown",
      "metadata": {
        "id": "dvK00WJ8r4wz"
      },
      "source": [
        "**Importowanie danych z pliku - plik CSV.**"
      ]
    },
    {
      "cell_type": "code",
      "execution_count": null,
      "metadata": {
        "colab": {
          "base_uri": "https://localhost:8080/",
          "height": 359
        },
        "id": "AZzuSjNoAMRJ",
        "outputId": "9f6be3b2-daf6-4518-b610-e9d455f8b1c1"
      },
      "outputs": [],
      "source": [
        "dane = pd.read_csv('../Data/waga_wzrost.csv', sep=';', decimal=',')\n",
        "#dane.head(5)\n",
        "dane.tail(10)"
      ]
    },
    {
      "cell_type": "code",
      "execution_count": null,
      "metadata": {
        "colab": {
          "base_uri": "https://localhost:8080/",
          "height": 405
        },
        "id": "GgP-_m2FBORG",
        "outputId": "16d49dca-d3ea-4cf8-c152-0761e0306595"
      },
      "outputs": [],
      "source": [
        "pl.figure(figsize=(8, 6), facecolor='lightgrey')\n",
        "\n",
        "xx = 1\n",
        "yy = 2\n",
        "\n",
        "pl.scatter(dane.iloc[:,xx], dane.iloc[:,yy], color=dane.iloc[:,5])\n",
        "\n",
        "pl.xlabel(dane.columns[xx])\n",
        "pl.ylabel(dane.columns[yy])"
      ]
    },
    {
      "cell_type": "code",
      "execution_count": null,
      "metadata": {
        "colab": {
          "base_uri": "https://localhost:8080/",
          "height": 68
        },
        "id": "x5B9wjKZIpXA",
        "outputId": "f314945c-46d9-42cb-e4d1-c8f5560724b7"
      },
      "outputs": [],
      "source": [
        "X = np.array(dane.iloc[0:29,0:4])\n",
        "Y = np.array(dane.iloc[0:29,4])\n",
        "#print(X)\n",
        "#print(Y)\n",
        "knn = KNeighborsClassifier(n_neighbors=5)\n",
        "knn.fit(X,Y)"
      ]
    },
    {
      "cell_type": "markdown",
      "metadata": {
        "id": "Ck7fDxLIwPDv"
      },
      "source": [
        "**Testowanie**"
      ]
    },
    {
      "cell_type": "code",
      "execution_count": null,
      "metadata": {
        "colab": {
          "base_uri": "https://localhost:8080/",
          "height": 153
        },
        "id": "w1JH69ZXR_Rf",
        "outputId": "57cc6ca1-2b8f-4499-d2c8-7900514b4ad4"
      },
      "outputs": [],
      "source": [
        "nr_testowy = 34\n",
        "testowy = dane.iloc[nr_testowy,0:4]\n",
        "print(dane.iloc[nr_testowy,:])\n",
        "\n",
        "testowy2 = pd.Series([187,53,46,0])\n",
        "print(testowy2)\n",
        "\n",
        "wynik = knn.predict(np.array([testowy2]))\n",
        "print(\"Dopasowane jako \",wynik[0])"
      ]
    },
    {
      "cell_type": "markdown",
      "metadata": {
        "id": "0s4P2JgDwSLz"
      },
      "source": [
        "**Sprawdzanie działania modelu**"
      ]
    },
    {
      "cell_type": "code",
      "execution_count": null,
      "metadata": {
        "colab": {
          "base_uri": "https://localhost:8080/",
          "height": 85
        },
        "id": "Q2o39NojwwLc",
        "outputId": "823910db-9223-4066-db7f-e2d29fa5a09a"
      },
      "outputs": [],
      "source": [
        "from sklearn.model_selection import train_test_split\n",
        "from sklearn.metrics import accuracy_score\n",
        "\n",
        "X = np.array(dane.iloc[:,0:4])\n",
        "Y = np.array(dane.iloc[:,4])\n",
        "\n",
        "Xtrain, Xtest, Ytrain, Ytest = train_test_split(X,Y,test_size=0.2)\n",
        "\n",
        "print(len(Xtrain))\n",
        "print(len(Ytrain))\n",
        "print(len(Xtest))\n",
        "print(len(Ytest))"
      ]
    },
    {
      "cell_type": "code",
      "execution_count": null,
      "metadata": {
        "colab": {
          "base_uri": "https://localhost:8080/",
          "height": 51
        },
        "id": "9U7jH6i3yGln",
        "outputId": "a454e438-229a-4eca-d34b-9115e4f2d44f"
      },
      "outputs": [],
      "source": [
        "knn = KNeighborsClassifier(n_neighbors=3)\n",
        "knn.fit(Xtrain,Ytrain)\n",
        "\n",
        "print(accuracy_score(knn.predict(Xtrain),Ytrain))\n",
        "print(accuracy_score(knn.predict(Xtest),Ytest))"
      ]
    }
  ],
  "metadata": {
    "colab": {
      "collapsed_sections": [],
      "name": "KNN - przykład.ipynb",
      "provenance": []
    },
    "kernelspec": {
      "display_name": "Python 3",
      "name": "python3"
    },
    "language_info": {
      "codemirror_mode": {
        "name": "ipython",
        "version": 3
      },
      "file_extension": ".py",
      "mimetype": "text/x-python",
      "name": "python",
      "nbconvert_exporter": "python",
      "pygments_lexer": "ipython3",
      "version": "3.9.12"
    }
  },
  "nbformat": 4,
  "nbformat_minor": 0
}
