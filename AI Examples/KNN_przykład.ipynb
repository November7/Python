{
  "cells": [
    {
      "cell_type": "markdown",
      "metadata": {
        "id": "FH9Q6EYw-xEB"
      },
      "source": [
        "**Import wymaganych bibliotek**"
      ]
    },
    {
      "cell_type": "code",
      "execution_count": 3,
      "metadata": {
        "id": "ZbpOdPHt-rYA"
      },
      "outputs": [],
      "source": [
        "import matplotlib.pyplot as pl\n",
        "import numpy as np\n",
        "import pandas as pd\n",
        "from sklearn.neighbors import KNeighborsClassifier"
      ]
    },
    {
      "cell_type": "markdown",
      "metadata": {
        "id": "dvK00WJ8r4wz"
      },
      "source": [
        "**Importowanie danych z pliku - plik CSV.**"
      ]
    },
    {
      "cell_type": "code",
      "execution_count": 5,
      "metadata": {
        "colab": {
          "base_uri": "https://localhost:8080/",
          "height": 359
        },
        "id": "AZzuSjNoAMRJ",
        "outputId": "9f6be3b2-daf6-4518-b610-e9d455f8b1c1"
      },
      "outputs": [
        {
          "data": {
            "text/html": [
              "<div>\n",
              "<style scoped>\n",
              "    .dataframe tbody tr th:only-of-type {\n",
              "        vertical-align: middle;\n",
              "    }\n",
              "\n",
              "    .dataframe tbody tr th {\n",
              "        vertical-align: top;\n",
              "    }\n",
              "\n",
              "    .dataframe thead th {\n",
              "        text-align: right;\n",
              "    }\n",
              "</style>\n",
              "<table border=\"1\" class=\"dataframe\">\n",
              "  <thead>\n",
              "    <tr style=\"text-align: right;\">\n",
              "      <th></th>\n",
              "      <th>height</th>\n",
              "      <th>weight</th>\n",
              "      <th>shoe_size</th>\n",
              "      <th>hair</th>\n",
              "      <th>gender</th>\n",
              "      <th>color</th>\n",
              "    </tr>\n",
              "  </thead>\n",
              "  <tbody>\n",
              "    <tr>\n",
              "      <th>33</th>\n",
              "      <td>163</td>\n",
              "      <td>55</td>\n",
              "      <td>37</td>\n",
              "      <td>1</td>\n",
              "      <td>K</td>\n",
              "      <td>Red</td>\n",
              "    </tr>\n",
              "    <tr>\n",
              "      <th>34</th>\n",
              "      <td>157</td>\n",
              "      <td>53</td>\n",
              "      <td>36</td>\n",
              "      <td>1</td>\n",
              "      <td>K</td>\n",
              "      <td>Red</td>\n",
              "    </tr>\n",
              "    <tr>\n",
              "      <th>35</th>\n",
              "      <td>189</td>\n",
              "      <td>71</td>\n",
              "      <td>39</td>\n",
              "      <td>1</td>\n",
              "      <td>K</td>\n",
              "      <td>Red</td>\n",
              "    </tr>\n",
              "    <tr>\n",
              "      <th>36</th>\n",
              "      <td>197</td>\n",
              "      <td>97</td>\n",
              "      <td>41</td>\n",
              "      <td>0</td>\n",
              "      <td>K</td>\n",
              "      <td>Red</td>\n",
              "    </tr>\n",
              "    <tr>\n",
              "      <th>37</th>\n",
              "      <td>191</td>\n",
              "      <td>79</td>\n",
              "      <td>45</td>\n",
              "      <td>0</td>\n",
              "      <td>M</td>\n",
              "      <td>Blue</td>\n",
              "    </tr>\n",
              "    <tr>\n",
              "      <th>38</th>\n",
              "      <td>165</td>\n",
              "      <td>66</td>\n",
              "      <td>35</td>\n",
              "      <td>1</td>\n",
              "      <td>K</td>\n",
              "      <td>Red</td>\n",
              "    </tr>\n",
              "    <tr>\n",
              "      <th>39</th>\n",
              "      <td>168</td>\n",
              "      <td>64</td>\n",
              "      <td>36</td>\n",
              "      <td>1</td>\n",
              "      <td>K</td>\n",
              "      <td>Red</td>\n",
              "    </tr>\n",
              "    <tr>\n",
              "      <th>40</th>\n",
              "      <td>202</td>\n",
              "      <td>101</td>\n",
              "      <td>42</td>\n",
              "      <td>0</td>\n",
              "      <td>M</td>\n",
              "      <td>Blue</td>\n",
              "    </tr>\n",
              "    <tr>\n",
              "      <th>41</th>\n",
              "      <td>187</td>\n",
              "      <td>88</td>\n",
              "      <td>42</td>\n",
              "      <td>1</td>\n",
              "      <td>M</td>\n",
              "      <td>Blue</td>\n",
              "    </tr>\n",
              "    <tr>\n",
              "      <th>42</th>\n",
              "      <td>172</td>\n",
              "      <td>96</td>\n",
              "      <td>42</td>\n",
              "      <td>0</td>\n",
              "      <td>M</td>\n",
              "      <td>Blue</td>\n",
              "    </tr>\n",
              "  </tbody>\n",
              "</table>\n",
              "</div>"
            ],
            "text/plain": [
              "    height  weight  shoe_size  hair gender color\n",
              "33     163      55         37     1      K   Red\n",
              "34     157      53         36     1      K   Red\n",
              "35     189      71         39     1      K   Red\n",
              "36     197      97         41     0      K   Red\n",
              "37     191      79         45     0      M  Blue\n",
              "38     165      66         35     1      K   Red\n",
              "39     168      64         36     1      K   Red\n",
              "40     202     101         42     0      M  Blue\n",
              "41     187      88         42     1      M  Blue\n",
              "42     172      96         42     0      M  Blue"
            ]
          },
          "execution_count": 5,
          "metadata": {},
          "output_type": "execute_result"
        }
      ],
      "source": [
        "dane = pd.read_csv('../Data/waga_wzrost.csv', sep=';', decimal=',')\n",
        "#dane.head(5)\n",
        "dane.tail(10)"
      ]
    },
    {
      "cell_type": "code",
      "execution_count": 6,
      "metadata": {
        "colab": {
          "base_uri": "https://localhost:8080/",
          "height": 405
        },
        "id": "GgP-_m2FBORG",
        "outputId": "16d49dca-d3ea-4cf8-c152-0761e0306595"
      },
      "outputs": [
        {
          "data": {
            "text/plain": [
              "Text(0, 0.5, 'shoe_size')"
            ]
          },
          "execution_count": 6,
          "metadata": {},
          "output_type": "execute_result"
        },
        {
          "data": {
            "image/png": "[encoded data removed]",
            "text/plain": [
              "<Figure size 576x432 with 1 Axes>"
            ]
          },
          "metadata": {},
          "output_type": "display_data"
        }
      ],
      "source": [
        "pl.figure(figsize=(8, 6), facecolor='lightgrey')\n",
        "\n",
        "xx = 1\n",
        "yy = 2\n",
        "\n",
        "pl.scatter(dane.iloc[:,xx], dane.iloc[:,yy], color=dane.iloc[:,5])\n",
        "\n",
        "pl.xlabel(dane.columns[xx])\n",
        "pl.ylabel(dane.columns[yy])"
      ]
    },
    {
      "cell_type": "code",
      "execution_count": 7,
      "metadata": {
        "colab": {
          "base_uri": "https://localhost:8080/",
          "height": 68
        },
        "id": "x5B9wjKZIpXA",
        "outputId": "f314945c-46d9-42cb-e4d1-c8f5560724b7"
      },
      "outputs": [
        {
          "data": {
            "text/plain": [
              "KNeighborsClassifier()"
            ]
          },
          "execution_count": 7,
          "metadata": {},
          "output_type": "execute_result"
        }
      ],
      "source": [
        "X = np.array(dane.iloc[0:29,0:4])\n",
        "Y = np.array(dane.iloc[0:29,4])\n",
        "#print(X)\n",
        "#print(Y)\n",
        "knn = KNeighborsClassifier(n_neighbors=5)\n",
        "knn.fit(X,Y)"
      ]
    },
    {
      "cell_type": "markdown",
      "metadata": {
        "id": "Ck7fDxLIwPDv"
      },
      "source": [
        "**Testowanie**"
      ]
    },
    {
      "cell_type": "code",
      "execution_count": 21,
      "metadata": {
        "colab": {
          "base_uri": "https://localhost:8080/",
          "height": 153
        },
        "id": "w1JH69ZXR_Rf",
        "outputId": "57cc6ca1-2b8f-4499-d2c8-7900514b4ad4"
      },
      "outputs": [
        {
          "name": "stdout",
          "output_type": "stream",
          "text": [
            "height       157\n",
            "weight        53\n",
            "shoe_size     36\n",
            "hair           1\n",
            "gender         K\n",
            "color        Red\n",
            "Name: 34, dtype: object\n",
            "Dopasowane jako  M\n"
          ]
        }
      ],
      "source": [
        "nr_testowy = 34\n",
        "testowy = dane.iloc[nr_testowy,0:4]\n",
        "print(dane.iloc[nr_testowy,:])\n",
        "\n",
        "testowy2 = pd.Series([187,53,46,0])\n",
        "print(testowy2)\n",
        "\n",
        "wynik = knn.predict(np.array([testowy2]))\n",
        "print(\"Dopasowane jako \",wynik[0])"
      ]
    },
    {
      "cell_type": "markdown",
      "metadata": {
        "id": "0s4P2JgDwSLz"
      },
      "source": [
        "**Sprawdzanie działania modelu**"
      ]
    },
    {
      "cell_type": "code",
      "execution_count": 9,
      "metadata": {
        "colab": {
          "base_uri": "https://localhost:8080/",
          "height": 85
        },
        "id": "Q2o39NojwwLc",
        "outputId": "823910db-9223-4066-db7f-e2d29fa5a09a"
      },
      "outputs": [
        {
          "name": "stdout",
          "output_type": "stream",
          "text": [
            "34\n",
            "34\n",
            "9\n",
            "9\n"
          ]
        }
      ],
      "source": [
        "from sklearn.model_selection import train_test_split\n",
        "from sklearn.metrics import accuracy_score\n",
        "\n",
        "X = np.array(dane.iloc[:,0:4])\n",
        "Y = np.array(dane.iloc[:,4])\n",
        "\n",
        "Xtrain, Xtest, Ytrain, Ytest = train_test_split(X,Y,test_size=0.2)\n",
        "\n",
        "print(len(Xtrain))\n",
        "print(len(Ytrain))\n",
        "print(len(Xtest))\n",
        "print(len(Ytest))"
      ]
    },
    {
      "cell_type": "code",
      "execution_count": 10,
      "metadata": {
        "colab": {
          "base_uri": "https://localhost:8080/",
          "height": 51
        },
        "id": "9U7jH6i3yGln",
        "outputId": "a454e438-229a-4eca-d34b-9115e4f2d44f"
      },
      "outputs": [
        {
          "name": "stdout",
          "output_type": "stream",
          "text": [
            "0.8823529411764706\n",
            "1.0\n"
          ]
        }
      ],
      "source": [
        "knn = KNeighborsClassifier(n_neighbors=3)\n",
        "knn.fit(Xtrain,Ytrain)\n",
        "\n",
        "print(accuracy_score(knn.predict(Xtrain),Ytrain))\n",
        "print(accuracy_score(knn.predict(Xtest),Ytest))"
      ]
    }
  ],
  "metadata": {
    "colab": {
      "collapsed_sections": [],
      "name": "KNN - przykład.ipynb",
      "provenance": []
    },
    "kernelspec": {
      "display_name": "Python 3",
      "name": "python3"
    },
    "language_info": {
      "codemirror_mode": {
        "name": "ipython",
        "version": 3
      },
      "file_extension": ".py",
      "mimetype": "text/x-python",
      "name": "python",
      "nbconvert_exporter": "python",
      "pygments_lexer": "ipython3",
      "version": "3.9.12"
    }
  },
  "nbformat": 4,
  "nbformat_minor": 0
}
